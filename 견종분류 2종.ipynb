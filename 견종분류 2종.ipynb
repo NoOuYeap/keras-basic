{
 "cells": [
  {
   "cell_type": "code",
   "execution_count": 49,
   "metadata": {},
   "outputs": [
    {
     "name": "stdout",
     "output_type": "stream",
     "text": [
      "doberman1  파일 길이 :  1906\n",
      "doberman1  :  C:/gunjong/dog/doberman1\\cat_0_1085.jpg\n",
      "doberman1  :  C:/gunjong/dog/doberman1\\dober_0_3908.jpg\n",
      "doberman1  :  C:/gunjong/dog/doberman1\\dober_0_7405.jpg\n",
      "sichu1  파일 길이 :  2000\n",
      "sichu1  :  C:/gunjong/dog/sichu1\\1 - 1000656188.jpg\n",
      "sichu1  :  C:/gunjong/dog/sichu1\\21 - 523674503.jpg\n",
      "sichu1  :  C:/gunjong/dog/sichu1\\4 - 1222292354.jpg\n",
      "ok 3906\n"
     ]
    }
   ],
   "source": [
    "from PIL import Image                      \n",
    "import os, glob, numpy as np\n",
    "from sklearn.model_selection import train_test_split #from 모듈이름 import 함수이름을 만들어 작성시작한다.\n",
    "                                                        #파이썬이라 맨윗줄에 함수를 넣어 작성해야됨\n",
    "\n",
    "caltech_dir = \"C:/gunjong/dog\"  #caltect_dir에 자신이 쓸 디렉토리를 입력한다(정확한 주소입력)\n",
    "categories = [\"doberman1\",\"sichu1\"] #\"C:/gunjong/dog\" 해당주소안의 정확한 파일이름 작성\n",
    "nb_classes = len(categories)\n",
    "\n",
    "image_w = 64  #이미지 크기는 64 x 64 로 만든다\n",
    "image_h = 64\n",
    "\n",
    "pixels = image_h * image_w * 3  # *3으로 한것은 RGB 채널이 3채널이기 때문\n",
    "                                                                        \n",
    "\n",
    "X = []\n",
    "y = []\n",
    "\n",
    "for idx, cat in enumerate(categories): #이미지 파일을 RGB값으로 바꾸면서 RESIZE 해주고 그 값을 numpy 파일로 저장해주는 코딩\n",
    "    \n",
    "    \n",
    "    label = [0 for i in range(nb_classes)]\n",
    "    label[idx] = 1\n",
    "\n",
    "    image_dir = caltech_dir + \"/\" + cat\n",
    "    files = glob.glob(image_dir+\"/*.jpg\")\n",
    "    print(cat, \" 파일 길이 : \", len(files))\n",
    "    for i, f in enumerate(files):\n",
    "        img = Image.open(f)\n",
    "        img = img.convert(\"RGB\")\n",
    "        img = img.resize((image_w, image_h))\n",
    "        data = np.asarray(img)\n",
    "\n",
    "        X.append(data)\n",
    "        y.append(label)\n",
    "\n",
    "        if i % 700 == 0:\n",
    "            print(cat, \" : \", f)\n",
    "\n",
    "X = np.array(X)\n",
    "y = np.array(y)\n",
    "#1 0 0 0 이면 doberman\n",
    "#0 1 0 0 이면 sichu 이런식\n",
    "\n",
    "\n",
    "X_train, X_test, y_train, y_test = train_test_split(X, y)\n",
    "xy = (X_train, X_test, y_train, y_test)\n",
    "np.save(\"./multi_image_data.npy\", xy)  #해당 주소로 저장\n",
    "\n",
    "print(\"ok\", len(y))"
   ]
  },
  {
   "cell_type": "code",
   "execution_count": 50,
   "metadata": {},
   "outputs": [
    {
     "name": "stdout",
     "output_type": "stream",
     "text": [
      "(2929, 64, 64, 3)\n",
      "2929\n"
     ]
    }
   ],
   "source": [
    "import os, glob, numpy as np\n",
    "from keras.models import Sequential\n",
    "from keras.layers import Conv2D, MaxPooling2D, Dense, Flatten, Dropout\n",
    "from keras.callbacks import EarlyStopping, ModelCheckpoint\n",
    "import matplotlib.pyplot as plt\n",
    "import tensorflow.keras.backend as K  #여기부분은 딱히 설명안해주셔도 됩니다\n",
    "\n",
    "import tensorflow as tf\n",
    "config = tf.compat.v1.ConfigProto()\n",
    "config.gpu_options.allow_growth = True\n",
    "session = tf.compat.v1.Session(config=config)#여기부분은 딱히 설명안해주셔도 됩니다\n",
    "\n",
    "X_train, X_test, y_train, y_test = np.load('./multi_image_data.npy', allow_pickle=True)#해당 주소 가져온다\n",
    "print(X_train.shape)#이미지 크기 , 이미지 64X64로 만들었는지 확인 , RGB값 3채널인지 확인\n",
    "print(X_train.shape[0])"
   ]
  },
  {
   "cell_type": "code",
   "execution_count": 51,
   "metadata": {},
   "outputs": [],
   "source": [
    "categories = [\"doberman1\",\"sichu1\"] #CNN 컨볼루션 신경망 모델 만들기\n",
    "nb_classes = len(categories)        #Con2D 로 만들수 있다\n",
    "\n",
    "#일반화\n",
    "X_train = X_train.astype(float) / 255\n",
    "X_test = X_test.astype(float) / 255"
   ]
  },
  {
   "cell_type": "code",
   "execution_count": 52,
   "metadata": {},
   "outputs": [],
   "source": [
    "with tf.device('/device:GPU:0'):\n",
    "    model = Sequential()\n",
    "    model.add(Conv2D(32, (3,3), padding=\"same\", input_shape=X_train.shape[1:], activation='relu'))\n",
    "    model.add(MaxPooling2D(pool_size=(2,2)))\n",
    "    model.add(Dropout(0.25))\n",
    "    \n",
    "    model.add(Conv2D(64, (3,3), padding=\"same\", activation='relu'))\n",
    "    model.add(MaxPooling2D(pool_size=(2,2)))\n",
    "    model.add(Dropout(0.25))\n",
    "    \n",
    "    model.add(Flatten())\n",
    "    model.add(Dense(256, activation='relu'))\n",
    "    model.add(Dropout(0.5))\n",
    "    model.add(Dense(nb_classes, activation='softmax'))\n",
    "    model.compile(loss='categorical_crossentropy', optimizer='adam', metrics=['accuracy'])\n",
    "    model_dir = './model'\n",
    "    \n",
    "    if not os.path.exists(model_dir):\n",
    "        os.mkdir(model_dir)\n",
    "    \n",
    "    model_path = model_dir + '/multi_img_classification.model' # 모델을 패치하고 난 NUMPY값 저장\n",
    "    checkpoint = ModelCheckpoint(filepath=model_path , monitor='val_loss', verbose=1, save_best_only=True)\n",
    "    early_stopping = EarlyStopping(monitor='val_loss', patience=6)"
   ]
  },
  {
   "cell_type": "code",
   "execution_count": 53,
   "metadata": {},
   "outputs": [
    {
     "name": "stdout",
     "output_type": "stream",
     "text": [
      "Model: \"sequential_6\"\n",
      "_________________________________________________________________\n",
      "Layer (type)                 Output Shape              Param #   \n",
      "=================================================================\n",
      "conv2d_12 (Conv2D)           (None, 64, 64, 32)        896       \n",
      "_________________________________________________________________\n",
      "max_pooling2d_12 (MaxPooling (None, 32, 32, 32)        0         \n",
      "_________________________________________________________________\n",
      "dropout_18 (Dropout)         (None, 32, 32, 32)        0         \n",
      "_________________________________________________________________\n",
      "conv2d_13 (Conv2D)           (None, 32, 32, 64)        18496     \n",
      "_________________________________________________________________\n",
      "max_pooling2d_13 (MaxPooling (None, 16, 16, 64)        0         \n",
      "_________________________________________________________________\n",
      "dropout_19 (Dropout)         (None, 16, 16, 64)        0         \n",
      "_________________________________________________________________\n",
      "flatten_6 (Flatten)          (None, 16384)             0         \n",
      "_________________________________________________________________\n",
      "dense_12 (Dense)             (None, 256)               4194560   \n",
      "_________________________________________________________________\n",
      "dropout_20 (Dropout)         (None, 256)               0         \n",
      "_________________________________________________________________\n",
      "dense_13 (Dense)             (None, 2)                 514       \n",
      "=================================================================\n",
      "Total params: 4,214,466\n",
      "Trainable params: 4,214,466\n",
      "Non-trainable params: 0\n",
      "_________________________________________________________________\n"
     ]
    }
   ],
   "source": [
    "model.summary() # 모델의 구조를 요약해 출력한다. 이때까지 코딩한 CONV2D 나 , 이미지 크기설정 등등 확인가능"
   ]
  },
  {
   "cell_type": "code",
   "execution_count": 54,
   "metadata": {},
   "outputs": [
    {
     "name": "stdout",
     "output_type": "stream",
     "text": [
      "Epoch 1/50\n",
      "92/92 [==============================] - ETA: 0s - loss: 0.7609 - accuracy: 0.6176\n",
      "Epoch 00001: val_loss improved from inf to 0.43648, saving model to ./model\\multi_img_classification.model\n",
      "INFO:tensorflow:Assets written to: ./model\\multi_img_classification.model\\assets\n",
      "92/92 [==============================] - 12s 134ms/step - loss: 0.7609 - accuracy: 0.6176 - val_loss: 0.4365 - val_accuracy: 0.8444\n",
      "Epoch 2/50\n",
      "92/92 [==============================] - ETA: 0s - loss: 0.3835 - accuracy: 0.8484\n",
      "Epoch 00002: val_loss improved from 0.43648 to 0.29924, saving model to ./model\\multi_img_classification.model\n",
      "INFO:tensorflow:Assets written to: ./model\\multi_img_classification.model\\assets\n",
      "92/92 [==============================] - 12s 130ms/step - loss: 0.3835 - accuracy: 0.8484 - val_loss: 0.2992 - val_accuracy: 0.8833\n",
      "Epoch 3/50\n",
      "92/92 [==============================] - ETA: 0s - loss: 0.2775 - accuracy: 0.8901\n",
      "Epoch 00003: val_loss improved from 0.29924 to 0.24337, saving model to ./model\\multi_img_classification.model\n",
      "INFO:tensorflow:Assets written to: ./model\\multi_img_classification.model\\assets\n",
      "92/92 [==============================] - 12s 131ms/step - loss: 0.2775 - accuracy: 0.8901 - val_loss: 0.2434 - val_accuracy: 0.9150\n",
      "Epoch 4/50\n",
      "92/92 [==============================] - ETA: 0s - loss: 0.2206 - accuracy: 0.9082\n",
      "Epoch 00004: val_loss improved from 0.24337 to 0.18127, saving model to ./model\\multi_img_classification.model\n",
      "INFO:tensorflow:Assets written to: ./model\\multi_img_classification.model\\assets\n",
      "92/92 [==============================] - 12s 132ms/step - loss: 0.2206 - accuracy: 0.9082 - val_loss: 0.1813 - val_accuracy: 0.9314\n",
      "Epoch 5/50\n",
      "92/92 [==============================] - ETA: 0s - loss: 0.1712 - accuracy: 0.9358\n",
      "Epoch 00005: val_loss improved from 0.18127 to 0.17872, saving model to ./model\\multi_img_classification.model\n",
      "INFO:tensorflow:Assets written to: ./model\\multi_img_classification.model\\assets\n",
      "92/92 [==============================] - 13s 139ms/step - loss: 0.1712 - accuracy: 0.9358 - val_loss: 0.1787 - val_accuracy: 0.9365\n",
      "Epoch 6/50\n",
      "92/92 [==============================] - ETA: 0s - loss: 0.1394 - accuracy: 0.9481\n",
      "Epoch 00006: val_loss improved from 0.17872 to 0.16509, saving model to ./model\\multi_img_classification.model\n",
      "INFO:tensorflow:Assets written to: ./model\\multi_img_classification.model\\assets\n",
      "92/92 [==============================] - 12s 134ms/step - loss: 0.1394 - accuracy: 0.9481 - val_loss: 0.1651 - val_accuracy: 0.9396\n",
      "Epoch 7/50\n",
      "92/92 [==============================] - ETA: 0s - loss: 0.1245 - accuracy: 0.9553\n",
      "Epoch 00007: val_loss improved from 0.16509 to 0.15162, saving model to ./model\\multi_img_classification.model\n",
      "INFO:tensorflow:Assets written to: ./model\\multi_img_classification.model\\assets\n",
      "92/92 [==============================] - 12s 132ms/step - loss: 0.1245 - accuracy: 0.9553 - val_loss: 0.1516 - val_accuracy: 0.9560\n",
      "Epoch 8/50\n",
      "92/92 [==============================] - ETA: 0s - loss: 0.0858 - accuracy: 0.9720\n",
      "Epoch 00008: val_loss improved from 0.15162 to 0.11842, saving model to ./model\\multi_img_classification.model\n",
      "INFO:tensorflow:Assets written to: ./model\\multi_img_classification.model\\assets\n",
      "92/92 [==============================] - 12s 129ms/step - loss: 0.0858 - accuracy: 0.9720 - val_loss: 0.1184 - val_accuracy: 0.9662\n",
      "Epoch 9/50\n",
      "92/92 [==============================] - ETA: 0s - loss: 0.0800 - accuracy: 0.9744\n",
      "Epoch 00009: val_loss did not improve from 0.11842\n",
      "92/92 [==============================] - 10s 107ms/step - loss: 0.0800 - accuracy: 0.9744 - val_loss: 0.1317 - val_accuracy: 0.9591\n",
      "Epoch 10/50\n",
      "92/92 [==============================] - ETA: 0s - loss: 0.0713 - accuracy: 0.9761\n",
      "Epoch 00010: val_loss improved from 0.11842 to 0.11577, saving model to ./model\\multi_img_classification.model\n",
      "INFO:tensorflow:Assets written to: ./model\\multi_img_classification.model\\assets\n",
      "92/92 [==============================] - 12s 133ms/step - loss: 0.0713 - accuracy: 0.9761 - val_loss: 0.1158 - val_accuracy: 0.9632\n",
      "Epoch 11/50\n",
      "92/92 [==============================] - ETA: 0s - loss: 0.0406 - accuracy: 0.9870\n",
      "Epoch 00011: val_loss did not improve from 0.11577\n",
      "92/92 [==============================] - 10s 108ms/step - loss: 0.0406 - accuracy: 0.9870 - val_loss: 0.1413 - val_accuracy: 0.9580\n",
      "Epoch 12/50\n",
      "92/92 [==============================] - ETA: 0s - loss: 0.0243 - accuracy: 0.9928\n",
      "Epoch 00012: val_loss did not improve from 0.11577\n",
      "92/92 [==============================] - 10s 107ms/step - loss: 0.0243 - accuracy: 0.9928 - val_loss: 0.1224 - val_accuracy: 0.9642\n",
      "Epoch 13/50\n",
      "92/92 [==============================] - ETA: 0s - loss: 0.0276 - accuracy: 0.9925\n",
      "Epoch 00013: val_loss improved from 0.11577 to 0.10090, saving model to ./model\\multi_img_classification.model\n",
      "INFO:tensorflow:Assets written to: ./model\\multi_img_classification.model\\assets\n",
      "92/92 [==============================] - 12s 131ms/step - loss: 0.0276 - accuracy: 0.9925 - val_loss: 0.1009 - val_accuracy: 0.9601\n",
      "Epoch 14/50\n",
      "92/92 [==============================] - ETA: 0s - loss: 0.0348 - accuracy: 0.9870\n",
      "Epoch 00014: val_loss did not improve from 0.10090\n",
      "92/92 [==============================] - 10s 108ms/step - loss: 0.0348 - accuracy: 0.9870 - val_loss: 0.1144 - val_accuracy: 0.9632\n",
      "Epoch 15/50\n",
      "92/92 [==============================] - ETA: 0s - loss: 0.0175 - accuracy: 0.9945\n",
      "Epoch 00015: val_loss did not improve from 0.10090\n",
      "92/92 [==============================] - 10s 108ms/step - loss: 0.0175 - accuracy: 0.9945 - val_loss: 0.1176 - val_accuracy: 0.9632\n",
      "Epoch 16/50\n",
      "92/92 [==============================] - ETA: 0s - loss: 0.0153 - accuracy: 0.9969\n",
      "Epoch 00016: val_loss did not improve from 0.10090\n",
      "92/92 [==============================] - 10s 108ms/step - loss: 0.0153 - accuracy: 0.9969 - val_loss: 0.1311 - val_accuracy: 0.9683\n",
      "Epoch 17/50\n",
      "92/92 [==============================] - ETA: 0s - loss: 0.0166 - accuracy: 0.9952\n",
      "Epoch 00017: val_loss did not improve from 0.10090\n",
      "92/92 [==============================] - 10s 109ms/step - loss: 0.0166 - accuracy: 0.9952 - val_loss: 0.1026 - val_accuracy: 0.9724\n",
      "Epoch 18/50\n",
      "92/92 [==============================] - ETA: 0s - loss: 0.0157 - accuracy: 0.9939\n",
      "Epoch 00018: val_loss did not improve from 0.10090\n",
      "92/92 [==============================] - 10s 109ms/step - loss: 0.0157 - accuracy: 0.9939 - val_loss: 0.1157 - val_accuracy: 0.9642\n",
      "Epoch 19/50\n",
      "92/92 [==============================] - ETA: 0s - loss: 0.0152 - accuracy: 0.9942\n",
      "Epoch 00019: val_loss did not improve from 0.10090\n",
      "92/92 [==============================] - 10s 109ms/step - loss: 0.0152 - accuracy: 0.9942 - val_loss: 0.1287 - val_accuracy: 0.9652\n"
     ]
    }
   ],
   "source": [
    "history = model.fit(X_train, y_train, batch_size=32, epochs=50, validation_data=(X_test, y_test), callbacks=[checkpoint, early_stopping])\n",
    "#해당주소 이미지파일들을 강화학습 시켜 견종을 분류시키기 위한 강화학습코드"
   ]
  },
  {
   "cell_type": "code",
   "execution_count": 55,
   "metadata": {},
   "outputs": [
    {
     "name": "stdout",
     "output_type": "stream",
     "text": [
      "31/31 [==============================] - 1s 23ms/step - loss: 0.1287 - accuracy: 0.9652\n",
      "정확도 : 0.9652\n"
     ]
    }
   ],
   "source": [
    "print(\"정확도 : %.4f\" % (model.evaluate(X_test, y_test)[1]))\n",
    "# 정확도가 얼마인지 알아봅시다"
   ]
  },
  {
   "cell_type": "code",
   "execution_count": 56,
   "metadata": {},
   "outputs": [
    {
     "data": {
      "image/png": "[encoded data removed]",
      "text/plain": [
       "<Figure size 432x288 with 1 Axes>"
      ]
     },
     "metadata": {
      "needs_background": "light"
     },
     "output_type": "display_data"
    }
   ],
   "source": [
    "y_vloss = history.history['val_loss']\n",
    "y_loss = history.history['loss']\n",
    "\n",
    "x_len = np.arange(len(y_loss))\n",
    "\n",
    "plt.plot(x_len, y_vloss, marker='.', c='red', label='val_set_loss')\n",
    "plt.plot(x_len, y_loss, marker='.', c='blue', label='train_set_oss')\n",
    "plt.legend()\n",
    "plt.xlabel('epochs')\n",
    "plt.ylabel('loss')\n",
    "plt.grid()\n",
    "plt.show()\n",
    "#해당 강화학습이 얼만큼 안정성을 찾았는지에 대해 알아봅시다."
   ]
  },
  {
   "cell_type": "code",
   "execution_count": 57,
   "metadata": {},
   "outputs": [
    {
     "name": "stdout",
     "output_type": "stream",
     "text": [
      "WARNING:tensorflow:5 out of the last 5 calls to <function Model.make_predict_function.<locals>.predict_function at 0x0000029319C6E8B0> triggered tf.function retracing. Tracing is expensive and the excessive number of tracings could be due to (1) creating @tf.function repeatedly in a loop, (2) passing tensors with different shapes, (3) passing Python objects instead of tensors. For (1), please define your @tf.function outside of the loop. For (2), @tf.function has experimental_relax_shapes=True option that relaxes argument shapes that can avoid unnecessary retracing. For (3), please refer to https://www.tensorflow.org/tutorials/customization/performance#python_or_tensor_args and https://www.tensorflow.org/api_docs/python/tf/function for  more details.\n",
      "해당 doberman (1).jpg이미지는 도베르만로 추정됩니다.\n",
      "해당 doberman (2).jpg이미지는 시츄으로 추정됩니다.\n",
      "해당 doberman (3).jpg이미지는 도베르만로 추정됩니다.\n",
      "해당 doberman (4).jpg이미지는 도베르만로 추정됩니다.\n",
      "해당 doberman (5).jpg이미지는 도베르만로 추정됩니다.\n",
      "해당 sichu (1).jpg이미지는 시츄으로 추정됩니다.\n",
      "해당 sichu (2).jpg이미지는 시츄으로 추정됩니다.\n",
      "해당 sichu (3).jpg이미지는 시츄으로 추정됩니다.\n",
      "해당 sichu (4).jpg이미지는 시츄으로 추정됩니다.\n",
      "해당 sichu (5).jpg이미지는 시츄으로 추정됩니다.\n"
     ]
    }
   ],
   "source": [
    "from PIL import Image\n",
    "import os, glob, numpy as np\n",
    "from keras.models import load_model\n",
    "\n",
    "caltech_dir = \"C:/gunjong/test/test1/test2\" #견종분류 예시용 디렉토리 파일 주소\n",
    "image_w = 64\n",
    "image_h = 64 #해당 이미지 크기는 위와 동일한 64 X 64 크기로 설정\n",
    "\n",
    "pixels = image_h * image_w * 3 # *3으로 한것은 RGB 채널이 3채널이기 때문\n",
    "\n",
    "X = []\n",
    "filenames = []\n",
    "files = glob.glob(caltech_dir+\"/*.jpg\")\n",
    "for i, f in enumerate(files):  #이미지 파일을 RGB값으로 바꾸면서 RESIZE 해주고 그 값을 numpy 파일로 저장해주는 코드\n",
    "    img = Image.open(f)\n",
    "    img = img.convert(\"RGB\")\n",
    "    img = img.resize((image_w, image_h))\n",
    "    data = np.asarray(img)\n",
    "    filenames.append(f)\n",
    "    X.append(data) \n",
    "\n",
    "X = np.array(X)\n",
    "model = load_model('./model/multi_img_classification.model')# 모델을 패치하고 난 NUMPY값 출력\n",
    "\n",
    "prediction = model.predict(X) # data를 넣어 결과를 예측시킨다. → predict() 메서드 \n",
    "                              # 분류작업을 위해 가장 중요한 메서드 이다.\n",
    "np.set_printoptions(formatter={'float': lambda x: \"{0:0.3f}\".format(x)})\n",
    "cnt = 0\n",
    "\n",
    "for i in prediction: #강화학습이 끝나고 분류작업을 하기위한 코드 작성\n",
    "    pre_ans = i.argmax()  # 예측 레이블\n",
    "\n",
    "    pre_ans_str = ''\n",
    "    if pre_ans == 0: pre_ans_str = \"도베르만\"\n",
    "    else : pre_ans_str = \"시츄\"\n",
    "        \n",
    "    if i[0] >= 0.8 : print(\"해당 \"+filenames[cnt].split(\"\\\\\")[1]+\"이미지는 \"+pre_ans_str+\"로 추정됩니다.\")\n",
    "    if i[1] >= 0.8: print(\"해당 \"+filenames[cnt].split(\"\\\\\")[1]+\"이미지는 \"+pre_ans_str+\"으로 추정됩니다.\")\n",
    "                            \n",
    "    cnt += 1"
   ]
  },
  {
   "cell_type": "code",
   "execution_count": null,
   "metadata": {},
   "outputs": [],
   "source": []
  }
 ],
 "metadata": {
  "kernelspec": {
   "display_name": "Python 3",
   "language": "python",
   "name": "python3"
  },
  "language_info": {
   "codemirror_mode": {
    "name": "ipython",
    "version": 3
   },
   "file_extension": ".py",
   "mimetype": "text/x-python",
   "name": "python",
   "nbconvert_exporter": "python",
   "pygments_lexer": "ipython3",
   "version": "3.8.5"
  }
 },
 "nbformat": 4,
 "nbformat_minor": 4
}
